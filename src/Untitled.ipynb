{
 "cells": [
  {
   "cell_type": "code",
   "execution_count": 1,
   "id": "7fdb2876",
   "metadata": {},
   "outputs": [],
   "source": [
    "mi_ciudad = \"Madrid\"\n",
    "ciudad = \"Barcelona\"\n",
    "otra_ciudad = \"Bilbao\""
   ]
  },
  {
   "cell_type": "code",
   "execution_count": 2,
   "id": "22102ed6",
   "metadata": {},
   "outputs": [
    {
     "name": "stdout",
     "output_type": "stream",
     "text": [
      "Latitud de  Madrid : 40.4167047\n",
      "Longitud de  Madrid : -3.7035825\n",
      "Latitud de  Barcelona : 41.3828939\n",
      "Longitud de  Barcelona : 2.1774322\n",
      "Latitud de  Bilbao : 43.2630018\n",
      "Longitud de  Bilbao : -2.9350039\n"
     ]
    }
   ],
   "source": [
    "#  Ya tengo mi df inicial. Busco datos para enriquecerlo\n",
    "from geopy.geocoders import Nominatim\n",
    "\n",
    "# Initialize Nominatim API\n",
    "geolocator = Nominatim(user_agent=\"MyApp\")\n",
    "\n",
    "# ciudad Barcelona\n",
    "location_ciudad = geolocator.geocode(ciudad)\n",
    "lat_ciudad = location_ciudad.latitude\n",
    "long_ciudad = location_ciudad.longitude\n",
    "\n",
    "# mi ciudad Madrid\n",
    "location_mi_ciudad = geolocator.geocode(mi_ciudad)\n",
    "lat_mi_ciudad = location_mi_ciudad.latitude\n",
    "long_mi_ciudad = location_mi_ciudad.longitude\n",
    "\n",
    "# otra ciudad Bilbao\n",
    "location_otra_ciudad = geolocator.geocode(otra_ciudad)\n",
    "lat_otra_ciudad = location_otra_ciudad.latitude\n",
    "long_otra_ciudad = location_otra_ciudad.longitude\n",
    "\n",
    "\n",
    "print(\"Latitud de \", mi_ciudad, \":\" ,lat_mi_ciudad)\n",
    "print(\"Longitud de \", mi_ciudad, \":\" ,long_mi_ciudad)\n",
    "print(\"Latitud de \", ciudad,\":\" ,lat_ciudad)\n",
    "print(\"Longitud de \", ciudad,\":\" ,long_ciudad)\n",
    "print(\"Latitud de \", otra_ciudad,\":\" ,lat_otra_ciudad)\n",
    "print(\"Longitud de \", otra_ciudad,\":\" ,long_otra_ciudad)"
   ]
  },
  {
   "cell_type": "code",
   "execution_count": 3,
   "id": "56346662",
   "metadata": {},
   "outputs": [],
   "source": [
    "from datetime import datetime\n",
    "from meteostat import Point, Daily\n",
    "\n",
    "# Set time period\n",
    "start = datetime(2018, 1, 1)\n",
    "end = datetime(2022, 12, 31)\n",
    "\n",
    "#Datos Barcelona\n",
    "location_ciudad = Point(lat_ciudad,long_ciudad)\n",
    "\n",
    "data_ciudad = Daily(location_ciudad, start, end)\n",
    "data_ciudad = data_ciudad.fetch().reset_index()\n",
    "\n",
    "#Datos Madrid\n",
    "location_mi_ciudad = Point(lat_mi_ciudad,long_mi_ciudad)\n",
    "\n",
    "data_mi_ciudad = Daily(location_mi_ciudad, start, end)\n",
    "data_mi_ciudad = data_mi_ciudad.fetch().reset_index()\n",
    "\n",
    "#Datos Bilbao\n",
    "location_otra_ciudad = Point(lat_otra_ciudad,long_otra_ciudad)\n",
    "\n",
    "data_otra_ciudad = Daily(location_otra_ciudad, start, end)\n",
    "data_otra_ciudad = data_otra_ciudad.fetch().reset_index()"
   ]
  }
 ],
 "metadata": {
  "kernelspec": {
   "display_name": "Ishki",
   "language": "python",
   "name": "ishki"
  },
  "language_info": {
   "codemirror_mode": {
    "name": "ipython",
    "version": 3
   },
   "file_extension": ".py",
   "mimetype": "text/x-python",
   "name": "python",
   "nbconvert_exporter": "python",
   "pygments_lexer": "ipython3",
   "version": "3.9.13"
  }
 },
 "nbformat": 4,
 "nbformat_minor": 5
}
