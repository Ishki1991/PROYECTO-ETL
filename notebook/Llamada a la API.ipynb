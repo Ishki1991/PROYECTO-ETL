{
 "cells": [
  {
   "cell_type": "code",
   "execution_count": 5,
   "id": "a1edc0ef",
   "metadata": {},
   "outputs": [],
   "source": [
    "mi_ciudad = \"Madrid\"\n",
    "ciudad = \"Barcelona\"\n",
    "otra_ciudad = \"Bilbao\""
   ]
  },
  {
   "cell_type": "code",
   "execution_count": 6,
   "id": "df5097c5",
   "metadata": {},
   "outputs": [
    {
     "name": "stdout",
     "output_type": "stream",
     "text": [
      "Latitud de  Madrid : 40.4167047\n",
      "Longitud de  Madrid : -3.7035825\n",
      "Latitud de  Barcelona : 41.3828939\n",
      "Longitud de  Barcelona : 2.1774322\n",
      "Latitud de  Bilbao : 43.2630018\n",
      "Longitud de  Bilbao : -2.9350039\n"
     ]
    }
   ],
   "source": [
    "# Usamos esta libreria para obtener la longitud y latitud de las ciudades correspondietes\n",
    "\n",
    "from geopy.geocoders import Nominatim\n",
    "\n",
    "# Initialize Nominatim API\n",
    "geolocator = Nominatim(user_agent=\"MyApp\")\n",
    "\n",
    "# ciudad Barcelona\n",
    "location_ciudad = geolocator.geocode(ciudad)\n",
    "lat_ciudad = location_ciudad.latitude\n",
    "long_ciudad = location_ciudad.longitude\n",
    "\n",
    "# mi ciudad Madrid\n",
    "location_mi_ciudad = geolocator.geocode(mi_ciudad)\n",
    "lat_mi_ciudad = location_mi_ciudad.latitude\n",
    "long_mi_ciudad = location_mi_ciudad.longitude\n",
    "\n",
    "# otra ciudad Bilbao\n",
    "location_otra_ciudad = geolocator.geocode(otra_ciudad)\n",
    "lat_otra_ciudad = location_otra_ciudad.latitude\n",
    "long_otra_ciudad = location_otra_ciudad.longitude\n",
    "\n",
    "\n",
    "print(\"Latitud de \", mi_ciudad, \":\" ,lat_mi_ciudad)\n",
    "print(\"Longitud de \", mi_ciudad, \":\" ,long_mi_ciudad)\n",
    "print(\"Latitud de \", ciudad,\":\" ,lat_ciudad)\n",
    "print(\"Longitud de \", ciudad,\":\" ,long_ciudad)\n",
    "print(\"Latitud de \", otra_ciudad,\":\" ,lat_otra_ciudad)\n",
    "print(\"Longitud de \", otra_ciudad,\":\" ,long_otra_ciudad)"
   ]
  },
  {
   "cell_type": "code",
   "execution_count": 7,
   "id": "44e5cd08",
   "metadata": {},
   "outputs": [],
   "source": [
    "# En esta api obtengo datos actuales (diario) del clima\n",
    "import pandas as pd\n",
    "import urllib\n",
    "import urllib.request\n",
    "import json\n",
    "\n",
    "api_key_w='3886d5996f84c5b9a5c953b027fc2306'\n",
    "\n",
    "# Barcelona \n",
    "url_ciudad='https://api.openweathermap.org/data/2.5/weather?lat='+str(lat_ciudad)+'&lon='+str(long_ciudad)+'&units=metric&appid='+api_key_w\n",
    "datos_real_time_ciudad=urllib.request.urlopen(url_ciudad).read()\n",
    "js_ciudad=json.loads(datos_real_time_ciudad)\n",
    "\n",
    "t_max_ciudad=js_ciudad['main']['temp_max']\n",
    "t_min_ciudad=js_ciudad['main']['temp_min']\n",
    "t_med_ciudad=js_ciudad['main']['temp']\n",
    "pres_ciudad=js_ciudad['main']['pressure']\n",
    "w_spd_ciudad=js_ciudad['wind']['speed']\n",
    "sen_ter_ciudad=js_ciudad['main']['feels_like']\n",
    "\n",
    "# Madrid\n",
    "url_mi_ciudad='https://api.openweathermap.org/data/2.5/weather?lat='+str(lat_mi_ciudad)+'&lon='+str(long_mi_ciudad)+'&units=metric&appid='+api_key_w\n",
    "datos_real_time_mi_ciudad=urllib.request.urlopen(url_mi_ciudad).read()\n",
    "js_mi_ciudad=json.loads(datos_real_time_mi_ciudad)\n",
    "\n",
    "t_max_mi_ciudad= js_mi_ciudad['main']['temp_max']\n",
    "t_min_mi_ciudad= js_mi_ciudad['main']['temp_min']\n",
    "t_med_mi_ciudad= js_mi_ciudad['main']['temp']\n",
    "pres_mi_ciudad= js_mi_ciudad['main']['pressure']\n",
    "w_spd_mi_ciudad= js_mi_ciudad['wind']['speed']\n",
    "sen_ter_mi_ciudad= js_mi_ciudad['main']['feels_like']\n",
    "\n",
    "# Bilbao\n",
    "url_otra_ciudad='https://api.openweathermap.org/data/2.5/weather?lat='+str(lat_otra_ciudad)+'&lon='+str(long_otra_ciudad)+'&units=metric&appid='+api_key_w\n",
    "datos_real_time_otra_ciudad=urllib.request.urlopen(url_otra_ciudad).read()\n",
    "js_otra_ciudad=json.loads(datos_real_time_otra_ciudad)\n",
    "\n",
    "t_max_otra_ciudad= js_otra_ciudad['main']['temp_max']\n",
    "t_min_otra_ciudad= js_otra_ciudad['main']['temp_min']\n",
    "t_med_otra_ciudad= js_otra_ciudad['main']['temp']\n",
    "pres_otra_ciudad= js_otra_ciudad['main']['pressure']\n",
    "w_spd_otra_ciudad= js_otra_ciudad['wind']['speed']\n",
    "sen_ter_otra_ciudad= js_otra_ciudad['main']['feels_like']"
   ]
  },
  {
   "cell_type": "code",
   "execution_count": 8,
   "id": "68ddbf6c",
   "metadata": {},
   "outputs": [
    {
     "name": "stdout",
     "output_type": "stream",
     "text": [
      "En este momento, la temperatura media en Madrid  7.41 ºC siendo la temperatura máxima de  8.68 ºC, la temperatura mínima de  4.51 ºC, con velocidad de vientos 8.75 km/h\n",
      "\n",
      "En este momento, la temperatura media en Barcelona  8.52 ºC siendo la temperatura máxima de  9.64 ºC, la temperatura mínima de  7.65 ºC, con velocidad de vientos 3.6 km/h\n",
      "\n",
      "En este momento, la temperatura media en Bilbao  5.46 ºC siendo la temperatura máxima de  6.02 ºC, la temperatura mínima de  4.81 ºC, con velocidad de vientos 4.47 km/h\n",
      "\n"
     ]
    }
   ],
   "source": [
    "barca = {\"City\": [ciudad],\n",
    "         'temperatura_max': [t_max_ciudad],\n",
    "         'temperatura_min': [t_min_ciudad],\n",
    "         'temperatura_med': [t_med_ciudad],\n",
    "         'senacion_termica': [sen_ter_ciudad],\n",
    "         'presion': [pres_ciudad],\n",
    "         'wind_speed': [w_spd_ciudad]}\n",
    "df = pd.DataFrame(barca)\n",
    "\n",
    "madr = {\"City\": [mi_ciudad],\n",
    "       'temperatura_max': [t_max_mi_ciudad],\n",
    "       'temperatura_min': [t_min_mi_ciudad],\n",
    "       'temperatura_med': [t_med_mi_ciudad],\n",
    "       'senacion_termica': [sen_ter_mi_ciudad],\n",
    "       'presion': [pres_mi_ciudad],\n",
    "       'wind_speed': [w_spd_mi_ciudad]}\n",
    "df2 = pd.DataFrame(madr)\n",
    "\n",
    "bil = {\"City\": [otra_ciudad],\n",
    "       'temperatura_max': [t_max_otra_ciudad],\n",
    "       'temperatura_min': [t_min_otra_ciudad],\n",
    "       'temperatura_med': [t_med_otra_ciudad],\n",
    "       'senacion_termica': [sen_ter_otra_ciudad],\n",
    "       'presion': [pres_otra_ciudad],\n",
    "       'wind_speed': [w_spd_otra_ciudad]}\n",
    "df3 = pd.DataFrame(bil)\n",
    "\n",
    "print(f'En este momento, la temperatura media en Madrid ', t_med_mi_ciudad, 'ºC siendo la temperatura máxima de ', t_max_mi_ciudad, 'ºC, la temperatura mínima de ', t_min_mi_ciudad, 'ºC, con velocidad de vientos', w_spd_mi_ciudad, \"km/h\",end='\\n' * 2)\n",
    "print(f'En este momento, la temperatura media en Barcelona ', t_med_ciudad, 'ºC siendo la temperatura máxima de ', t_max_ciudad, 'ºC, la temperatura mínima de ', t_min_ciudad, 'ºC, con velocidad de vientos', w_spd_ciudad, \"km/h\",end='\\n' * 2)\n",
    "print(f'En este momento, la temperatura media en Bilbao ', t_med_otra_ciudad, 'ºC siendo la temperatura máxima de ', t_max_otra_ciudad, 'ºC, la temperatura mínima de ', t_min_otra_ciudad, 'ºC, con velocidad de vientos', w_spd_otra_ciudad, \"km/h\",end='\\n' * 2)"
   ]
  },
  {
   "cell_type": "code",
   "execution_count": 9,
   "id": "c1ba7fd5",
   "metadata": {},
   "outputs": [
    {
     "data": {
      "text/html": [
       "<div>\n",
       "<style scoped>\n",
       "    .dataframe tbody tr th:only-of-type {\n",
       "        vertical-align: middle;\n",
       "    }\n",
       "\n",
       "    .dataframe tbody tr th {\n",
       "        vertical-align: top;\n",
       "    }\n",
       "\n",
       "    .dataframe thead th {\n",
       "        text-align: right;\n",
       "    }\n",
       "</style>\n",
       "<table border=\"1\" class=\"dataframe\">\n",
       "  <thead>\n",
       "    <tr style=\"text-align: right;\">\n",
       "      <th></th>\n",
       "      <th>temperatura_max</th>\n",
       "      <th>temperatura_min</th>\n",
       "      <th>temperatura_med</th>\n",
       "      <th>senacion_termica</th>\n",
       "      <th>presion</th>\n",
       "      <th>wind_speed</th>\n",
       "    </tr>\n",
       "    <tr>\n",
       "      <th>City</th>\n",
       "      <th></th>\n",
       "      <th></th>\n",
       "      <th></th>\n",
       "      <th></th>\n",
       "      <th></th>\n",
       "      <th></th>\n",
       "    </tr>\n",
       "  </thead>\n",
       "  <tbody>\n",
       "    <tr>\n",
       "      <th>Barcelona</th>\n",
       "      <td>9.64</td>\n",
       "      <td>7.65</td>\n",
       "      <td>8.52</td>\n",
       "      <td>6.39</td>\n",
       "      <td>1019</td>\n",
       "      <td>3.60</td>\n",
       "    </tr>\n",
       "    <tr>\n",
       "      <th>Bilbao</th>\n",
       "      <td>6.02</td>\n",
       "      <td>4.81</td>\n",
       "      <td>5.46</td>\n",
       "      <td>2.17</td>\n",
       "      <td>1028</td>\n",
       "      <td>4.47</td>\n",
       "    </tr>\n",
       "    <tr>\n",
       "      <th>Madrid</th>\n",
       "      <td>8.68</td>\n",
       "      <td>4.51</td>\n",
       "      <td>7.41</td>\n",
       "      <td>3.10</td>\n",
       "      <td>1019</td>\n",
       "      <td>8.75</td>\n",
       "    </tr>\n",
       "  </tbody>\n",
       "</table>\n",
       "</div>"
      ],
      "text/plain": [
       "           temperatura_max  temperatura_min  temperatura_med  \\\n",
       "City                                                           \n",
       "Barcelona             9.64             7.65             8.52   \n",
       "Bilbao                6.02             4.81             5.46   \n",
       "Madrid                8.68             4.51             7.41   \n",
       "\n",
       "           senacion_termica  presion  wind_speed  \n",
       "City                                              \n",
       "Barcelona              6.39     1019        3.60  \n",
       "Bilbao                 2.17     1028        4.47  \n",
       "Madrid                 3.10     1019        8.75  "
      ]
     },
     "execution_count": 9,
     "metadata": {},
     "output_type": "execute_result"
    }
   ],
   "source": [
    "datos_hoy = pd.concat([df, df2, df3])\n",
    "datos_hoy.groupby([datos_hoy.City]).agg(pd.Series.mode)"
   ]
  },
  {
   "cell_type": "code",
   "execution_count": 14,
   "id": "4a29f78a",
   "metadata": {},
   "outputs": [
    {
     "ename": "ValueError",
     "evalue": "Single argument to subplot must be a three-digit integer, not 0    False\n0    False\n0    False\nName: City, dtype: bool",
     "output_type": "error",
     "traceback": [
      "\u001b[1;31m---------------------------------------------------------------------------\u001b[0m",
      "\u001b[1;31mValueError\u001b[0m                                Traceback (most recent call last)",
      "Cell \u001b[1;32mIn [14], line 5\u001b[0m\n\u001b[0;32m      2\u001b[0m get_ipython()\u001b[38;5;241m.\u001b[39mrun_line_magic(\u001b[38;5;124m'\u001b[39m\u001b[38;5;124mmatplotlib\u001b[39m\u001b[38;5;124m'\u001b[39m, \u001b[38;5;124m'\u001b[39m\u001b[38;5;124minline\u001b[39m\u001b[38;5;124m'\u001b[39m)\n\u001b[0;32m      4\u001b[0m fig \u001b[38;5;241m=\u001b[39m plt\u001b[38;5;241m.\u001b[39mfigure()\n\u001b[1;32m----> 5\u001b[0m ax1 \u001b[38;5;241m=\u001b[39m \u001b[43mfig\u001b[49m\u001b[38;5;241;43m.\u001b[39;49m\u001b[43madd_subplot\u001b[49m\u001b[43m(\u001b[49m\u001b[43mdatos_hoy\u001b[49m\u001b[43m[\u001b[49m\u001b[38;5;124;43m\"\u001b[39;49m\u001b[38;5;124;43mCity\u001b[39;49m\u001b[38;5;124;43m\"\u001b[39;49m\u001b[43m]\u001b[49m\u001b[38;5;241;43m==\u001b[39;49m\u001b[38;5;124;43m\"\u001b[39;49m\u001b[38;5;124;43mciudad\u001b[39;49m\u001b[38;5;124;43m\"\u001b[39;49m\u001b[43m)\u001b[49m\n\u001b[0;32m      6\u001b[0m ax2 \u001b[38;5;241m=\u001b[39m fig\u001b[38;5;241m.\u001b[39madd_subplot(\u001b[38;5;241m222\u001b[39m)\n\u001b[0;32m      7\u001b[0m ax3 \u001b[38;5;241m=\u001b[39m fig\u001b[38;5;241m.\u001b[39madd_subplot(\u001b[38;5;241m223\u001b[39m)\n",
      "File \u001b[1;32m~\\anaconda3\\envs\\Ishki\\lib\\site-packages\\matplotlib\\figure.py:745\u001b[0m, in \u001b[0;36mFigureBase.add_subplot\u001b[1;34m(self, *args, **kwargs)\u001b[0m\n\u001b[0;32m    742\u001b[0m         args \u001b[38;5;241m=\u001b[39m \u001b[38;5;28mtuple\u001b[39m(\u001b[38;5;28mmap\u001b[39m(\u001b[38;5;28mint\u001b[39m, \u001b[38;5;28mstr\u001b[39m(args[\u001b[38;5;241m0\u001b[39m])))\n\u001b[0;32m    743\u001b[0m     projection_class, pkw \u001b[38;5;241m=\u001b[39m \u001b[38;5;28mself\u001b[39m\u001b[38;5;241m.\u001b[39m_process_projection_requirements(\n\u001b[0;32m    744\u001b[0m         \u001b[38;5;241m*\u001b[39margs, \u001b[38;5;241m*\u001b[39m\u001b[38;5;241m*\u001b[39mkwargs)\n\u001b[1;32m--> 745\u001b[0m     ax \u001b[38;5;241m=\u001b[39m subplot_class_factory(projection_class)(\u001b[38;5;28mself\u001b[39m, \u001b[38;5;241m*\u001b[39margs, \u001b[38;5;241m*\u001b[39m\u001b[38;5;241m*\u001b[39mpkw)\n\u001b[0;32m    746\u001b[0m     key \u001b[38;5;241m=\u001b[39m (projection_class, pkw)\n\u001b[0;32m    747\u001b[0m \u001b[38;5;28;01mreturn\u001b[39;00m \u001b[38;5;28mself\u001b[39m\u001b[38;5;241m.\u001b[39m_add_axes_internal(ax, key)\n",
      "File \u001b[1;32m~\\anaconda3\\envs\\Ishki\\lib\\site-packages\\matplotlib\\axes\\_subplots.py:36\u001b[0m, in \u001b[0;36mSubplotBase.__init__\u001b[1;34m(self, fig, *args, **kwargs)\u001b[0m\n\u001b[0;32m     34\u001b[0m \u001b[38;5;28mself\u001b[39m\u001b[38;5;241m.\u001b[39m_axes_class\u001b[38;5;241m.\u001b[39m\u001b[38;5;21m__init__\u001b[39m(\u001b[38;5;28mself\u001b[39m, fig, [\u001b[38;5;241m0\u001b[39m, \u001b[38;5;241m0\u001b[39m, \u001b[38;5;241m1\u001b[39m, \u001b[38;5;241m1\u001b[39m], \u001b[38;5;241m*\u001b[39m\u001b[38;5;241m*\u001b[39mkwargs)\n\u001b[0;32m     35\u001b[0m \u001b[38;5;66;03m# This will also update the axes position.\u001b[39;00m\n\u001b[1;32m---> 36\u001b[0m \u001b[38;5;28mself\u001b[39m\u001b[38;5;241m.\u001b[39mset_subplotspec(\u001b[43mSubplotSpec\u001b[49m\u001b[38;5;241;43m.\u001b[39;49m\u001b[43m_from_subplot_args\u001b[49m\u001b[43m(\u001b[49m\u001b[43mfig\u001b[49m\u001b[43m,\u001b[49m\u001b[43m \u001b[49m\u001b[43margs\u001b[49m\u001b[43m)\u001b[49m)\n",
      "File \u001b[1;32m~\\anaconda3\\envs\\Ishki\\lib\\site-packages\\matplotlib\\gridspec.py:586\u001b[0m, in \u001b[0;36mSubplotSpec._from_subplot_args\u001b[1;34m(figure, args)\u001b[0m\n\u001b[0;32m    584\u001b[0m     \u001b[38;5;28;01mreturn\u001b[39;00m arg\n\u001b[0;32m    585\u001b[0m \u001b[38;5;28;01melif\u001b[39;00m \u001b[38;5;129;01mnot\u001b[39;00m \u001b[38;5;28misinstance\u001b[39m(arg, Integral):\n\u001b[1;32m--> 586\u001b[0m     \u001b[38;5;28;01mraise\u001b[39;00m \u001b[38;5;167;01mValueError\u001b[39;00m(\n\u001b[0;32m    587\u001b[0m         \u001b[38;5;124mf\u001b[39m\u001b[38;5;124m\"\u001b[39m\u001b[38;5;124mSingle argument to subplot must be a three-digit \u001b[39m\u001b[38;5;124m\"\u001b[39m\n\u001b[0;32m    588\u001b[0m         \u001b[38;5;124mf\u001b[39m\u001b[38;5;124m\"\u001b[39m\u001b[38;5;124minteger, not \u001b[39m\u001b[38;5;132;01m{\u001b[39;00marg\u001b[38;5;132;01m!r}\u001b[39;00m\u001b[38;5;124m\"\u001b[39m)\n\u001b[0;32m    589\u001b[0m \u001b[38;5;28;01mtry\u001b[39;00m:\n\u001b[0;32m    590\u001b[0m     rows, cols, num \u001b[38;5;241m=\u001b[39m \u001b[38;5;28mmap\u001b[39m(\u001b[38;5;28mint\u001b[39m, \u001b[38;5;28mstr\u001b[39m(arg))\n",
      "\u001b[1;31mValueError\u001b[0m: Single argument to subplot must be a three-digit integer, not 0    False\n0    False\n0    False\nName: City, dtype: bool"
     ]
    },
    {
     "data": {
      "text/plain": [
       "<Figure size 640x480 with 0 Axes>"
      ]
     },
     "metadata": {},
     "output_type": "display_data"
    }
   ],
   "source": [
    "import matplotlib.pyplot as plt\n",
    "%matplotlib inline\n",
    "\n",
    "fig = plt.figure()\n",
    "ax1 = fig.add_subplot(datos_hoy[\"City\"]==\"ciudad\")\n",
    "ax2 = fig.add_subplot(222)\n",
    "ax3 = fig.add_subplot(223)\n",
    "ax4 = fig.add_subplot(224)\n",
    "ax1.title.set_text('First Plot')\n",
    "ax2.title.set_text('Second Plot')\n",
    "ax3.title.set_text('Third Plot')\n",
    "ax4.title.set_text('Fourth Plot')\n",
    "plt.show()"
   ]
  },
  {
   "cell_type": "code",
   "execution_count": 10,
   "id": "a1050eca",
   "metadata": {},
   "outputs": [],
   "source": [
    "datos_hoy.to_csv(\"../data/DF_informacionActual.csv\",index=False)"
   ]
  }
 ],
 "metadata": {
  "kernelspec": {
   "display_name": "Ishki",
   "language": "python",
   "name": "ishki"
  },
  "language_info": {
   "codemirror_mode": {
    "name": "ipython",
    "version": 3
   },
   "file_extension": ".py",
   "mimetype": "text/x-python",
   "name": "python",
   "nbconvert_exporter": "python",
   "pygments_lexer": "ipython3",
   "version": "3.9.13"
  }
 },
 "nbformat": 4,
 "nbformat_minor": 5
}
