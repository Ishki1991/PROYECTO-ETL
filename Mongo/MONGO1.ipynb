{
 "cells": [
  {
   "cell_type": "code",
   "execution_count": 1,
   "id": "a80ac488",
   "metadata": {},
   "outputs": [],
   "source": [
    "import pymongo"
   ]
  },
  {
   "cell_type": "code",
   "execution_count": 2,
   "id": "4e86cf9f",
   "metadata": {},
   "outputs": [
    {
     "data": {
      "text/plain": [
       "MongoClient(host=['localhost:27017'], document_class=dict, tz_aware=False, connect=True)"
      ]
     },
     "execution_count": 2,
     "metadata": {},
     "output_type": "execute_result"
    }
   ],
   "source": [
    "cliente = pymongo.MongoClient()\n",
    "cliente"
   ]
  },
  {
   "cell_type": "code",
   "execution_count": 3,
   "id": "69a9eb73",
   "metadata": {},
   "outputs": [
    {
     "data": {
      "text/plain": [
       "['Clima_ciudades', 'admin', 'alojamiento_data', 'cliente', 'config', 'local']"
      ]
     },
     "execution_count": 3,
     "metadata": {},
     "output_type": "execute_result"
    }
   ],
   "source": [
    "cliente.list_database_names()"
   ]
  },
  {
   "cell_type": "code",
   "execution_count": 4,
   "id": "5c862d0f",
   "metadata": {},
   "outputs": [],
   "source": [
    "mydb = cliente[\"Clima_ciudades\"]"
   ]
  },
  {
   "cell_type": "code",
   "execution_count": 5,
   "id": "b0f09a13",
   "metadata": {},
   "outputs": [],
   "source": [
    "coleccion = mydb.cifras"
   ]
  },
  {
   "cell_type": "code",
   "execution_count": 6,
   "id": "18d35599",
   "metadata": {},
   "outputs": [],
   "source": [
    "import pandas as pd\n",
    "pd.options.display.max_columns = None"
   ]
  },
  {
   "cell_type": "code",
   "execution_count": 7,
   "id": "0aa26e66",
   "metadata": {},
   "outputs": [
    {
     "data": {
      "text/html": [
       "<div>\n",
       "<style scoped>\n",
       "    .dataframe tbody tr th:only-of-type {\n",
       "        vertical-align: middle;\n",
       "    }\n",
       "\n",
       "    .dataframe tbody tr th {\n",
       "        vertical-align: top;\n",
       "    }\n",
       "\n",
       "    .dataframe thead th {\n",
       "        text-align: right;\n",
       "    }\n",
       "</style>\n",
       "<table border=\"1\" class=\"dataframe\">\n",
       "  <thead>\n",
       "    <tr style=\"text-align: right;\">\n",
       "      <th></th>\n",
       "      <th>Region</th>\n",
       "      <th>Country</th>\n",
       "      <th>City</th>\n",
       "      <th>Month</th>\n",
       "      <th>Day</th>\n",
       "      <th>Year</th>\n",
       "      <th>AvgTemperature</th>\n",
       "      <th>fecha</th>\n",
       "      <th>tmin</th>\n",
       "      <th>tmax</th>\n",
       "      <th>prcp</th>\n",
       "      <th>wspd</th>\n",
       "      <th>pres</th>\n",
       "      <th>latitud</th>\n",
       "      <th>longitud</th>\n",
       "    </tr>\n",
       "  </thead>\n",
       "  <tbody>\n",
       "    <tr>\n",
       "      <th>0</th>\n",
       "      <td>Europe</td>\n",
       "      <td>Spain</td>\n",
       "      <td>Barcelona</td>\n",
       "      <td>1</td>\n",
       "      <td>1</td>\n",
       "      <td>2020</td>\n",
       "      <td>52.8</td>\n",
       "      <td>2020-01-01</td>\n",
       "      <td>0.0</td>\n",
       "      <td>12.0</td>\n",
       "      <td>0.0</td>\n",
       "      <td>4.2</td>\n",
       "      <td>1032.1</td>\n",
       "      <td>41.382894</td>\n",
       "      <td>2.177432</td>\n",
       "    </tr>\n",
       "    <tr>\n",
       "      <th>1</th>\n",
       "      <td>Europe</td>\n",
       "      <td>Spain</td>\n",
       "      <td>Barcelona</td>\n",
       "      <td>1</td>\n",
       "      <td>2</td>\n",
       "      <td>2020</td>\n",
       "      <td>49.7</td>\n",
       "      <td>2020-01-02</td>\n",
       "      <td>1.0</td>\n",
       "      <td>13.0</td>\n",
       "      <td>0.0</td>\n",
       "      <td>5.2</td>\n",
       "      <td>1031.8</td>\n",
       "      <td>41.382894</td>\n",
       "      <td>2.177432</td>\n",
       "    </tr>\n",
       "    <tr>\n",
       "      <th>2</th>\n",
       "      <td>Europe</td>\n",
       "      <td>Spain</td>\n",
       "      <td>Barcelona</td>\n",
       "      <td>1</td>\n",
       "      <td>3</td>\n",
       "      <td>2020</td>\n",
       "      <td>50.8</td>\n",
       "      <td>2020-01-03</td>\n",
       "      <td>2.0</td>\n",
       "      <td>11.0</td>\n",
       "      <td>0.0</td>\n",
       "      <td>4.7</td>\n",
       "      <td>1030.9</td>\n",
       "      <td>41.382894</td>\n",
       "      <td>2.177432</td>\n",
       "    </tr>\n",
       "    <tr>\n",
       "      <th>3</th>\n",
       "      <td>Europe</td>\n",
       "      <td>Spain</td>\n",
       "      <td>Barcelona</td>\n",
       "      <td>1</td>\n",
       "      <td>4</td>\n",
       "      <td>2020</td>\n",
       "      <td>50.2</td>\n",
       "      <td>2020-01-04</td>\n",
       "      <td>0.0</td>\n",
       "      <td>14.0</td>\n",
       "      <td>0.0</td>\n",
       "      <td>4.8</td>\n",
       "      <td>1031.4</td>\n",
       "      <td>41.382894</td>\n",
       "      <td>2.177432</td>\n",
       "    </tr>\n",
       "    <tr>\n",
       "      <th>4</th>\n",
       "      <td>Europe</td>\n",
       "      <td>Spain</td>\n",
       "      <td>Barcelona</td>\n",
       "      <td>1</td>\n",
       "      <td>5</td>\n",
       "      <td>2020</td>\n",
       "      <td>50.7</td>\n",
       "      <td>2020-01-05</td>\n",
       "      <td>1.0</td>\n",
       "      <td>14.0</td>\n",
       "      <td>0.0</td>\n",
       "      <td>5.6</td>\n",
       "      <td>1028.6</td>\n",
       "      <td>41.382894</td>\n",
       "      <td>2.177432</td>\n",
       "    </tr>\n",
       "  </tbody>\n",
       "</table>\n",
       "</div>"
      ],
      "text/plain": [
       "   Region Country       City  Month  Day  Year  AvgTemperature       fecha  \\\n",
       "0  Europe   Spain  Barcelona      1    1  2020            52.8  2020-01-01   \n",
       "1  Europe   Spain  Barcelona      1    2  2020            49.7  2020-01-02   \n",
       "2  Europe   Spain  Barcelona      1    3  2020            50.8  2020-01-03   \n",
       "3  Europe   Spain  Barcelona      1    4  2020            50.2  2020-01-04   \n",
       "4  Europe   Spain  Barcelona      1    5  2020            50.7  2020-01-05   \n",
       "\n",
       "   tmin  tmax  prcp  wspd    pres    latitud  longitud  \n",
       "0   0.0  12.0   0.0   4.2  1032.1  41.382894  2.177432  \n",
       "1   1.0  13.0   0.0   5.2  1031.8  41.382894  2.177432  \n",
       "2   2.0  11.0   0.0   4.7  1030.9  41.382894  2.177432  \n",
       "3   0.0  14.0   0.0   4.8  1031.4  41.382894  2.177432  \n",
       "4   1.0  14.0   0.0   5.6  1028.6  41.382894  2.177432  "
      ]
     },
     "execution_count": 7,
     "metadata": {},
     "output_type": "execute_result"
    }
   ],
   "source": [
    "df = pd.read_csv(\"../data/DF_Final.csv\")\n",
    "df.head()"
   ]
  },
  {
   "cell_type": "code",
   "execution_count": 8,
   "id": "a894f5c1",
   "metadata": {},
   "outputs": [
    {
     "data": {
      "text/plain": [
       "<pymongo.results.InsertManyResult at 0x1c6c97cf610>"
      ]
     },
     "execution_count": 8,
     "metadata": {},
     "output_type": "execute_result"
    }
   ],
   "source": [
    "coleccion.insert_many(df.to_dict(\"records\"))"
   ]
  },
  {
   "cell_type": "code",
   "execution_count": 9,
   "id": "cedfcd8a",
   "metadata": {},
   "outputs": [
    {
     "data": {
      "text/plain": [
       "{'_id': ObjectId('63ce99b8ccf6f57278ddaea7'),\n",
       " 'Region': 'Europe',\n",
       " 'Country': 'Spain',\n",
       " 'City': 'Barcelona',\n",
       " 'Month': 1,\n",
       " 'Day': 3,\n",
       " 'Year': 2020,\n",
       " 'AvgTemperature': 50.8,\n",
       " 'fecha': '2020-01-03',\n",
       " 'tmin': 2.0,\n",
       " 'tmax': 11.0,\n",
       " 'prcp': 0.0,\n",
       " 'wspd': 4.7,\n",
       " 'pres': 1030.9,\n",
       " 'latitud': 41.3828939,\n",
       " 'longitud': 2.1774322}"
      ]
     },
     "execution_count": 9,
     "metadata": {},
     "output_type": "execute_result"
    }
   ],
   "source": [
    "list(coleccion.find())[2]"
   ]
  },
  {
   "cell_type": "code",
   "execution_count": 10,
   "id": "2a338e1e",
   "metadata": {},
   "outputs": [
    {
     "data": {
      "text/plain": [
       "['Barcelona', 'Bilbao', 'Madrid']"
      ]
     },
     "execution_count": 10,
     "metadata": {},
     "output_type": "execute_result"
    }
   ],
   "source": [
    "coleccion.distinct( \"City\" )"
   ]
  },
  {
   "cell_type": "code",
   "execution_count": 11,
   "id": "b9b5a609",
   "metadata": {},
   "outputs": [
    {
     "name": "stdout",
     "output_type": "stream",
     "text": [
      "Latitud de Madrid : 40.4167047\n",
      "Longitud de Madrid : -3.7035825\n",
      "Latitud de Barcelona : 41.3828939\n",
      "Longitud de Barcelona : 2.1774322\n",
      "Latitud de Bilbao : 43.2630018\n",
      "Longitud de Bilbao : -2.9350039\n"
     ]
    }
   ],
   "source": [
    "from geopy.geocoders import Nominatim\n",
    "\n",
    "ciudad = \"Barcelona\"\n",
    "mi_ciudad = \"Madrid\"\n",
    "otra_ciudad = \"Bilbao\"\n",
    "# Initialize Nominatim API\n",
    "geolocator = Nominatim(user_agent=\"MyApp\")\n",
    "\n",
    "# ciudad Barcelona\n",
    "location_ciudad = geolocator.geocode(ciudad)\n",
    "lat_ciudad = location_ciudad.latitude\n",
    "long_ciudad = location_ciudad.longitude\n",
    "\n",
    "# mi ciudad Madrid\n",
    "location_mi_ciudad = geolocator.geocode(mi_ciudad)\n",
    "lat_mi_ciudad = location_mi_ciudad.latitude\n",
    "long_mi_ciudad = location_mi_ciudad.longitude\n",
    "\n",
    "# otra ciudad Bilbao\n",
    "location_otra_ciudad = geolocator.geocode(otra_ciudad)\n",
    "lat_otra_ciudad = location_otra_ciudad.latitude\n",
    "long_otra_ciudad = location_otra_ciudad.longitude\n",
    "\n",
    "\n",
    "print(\"Latitud de\", mi_ciudad, \":\" ,lat_mi_ciudad)\n",
    "print(\"Longitud de\", mi_ciudad, \":\" ,long_mi_ciudad)\n",
    "print(\"Latitud de\", ciudad,\":\" ,lat_ciudad)\n",
    "print(\"Longitud de\", ciudad,\":\" ,long_ciudad)\n",
    "print(\"Latitud de\", otra_ciudad,\":\" ,lat_otra_ciudad)\n",
    "print(\"Longitud de\", otra_ciudad,\":\" ,long_otra_ciudad)"
   ]
  },
  {
   "cell_type": "code",
   "execution_count": 12,
   "id": "3b0cda41",
   "metadata": {},
   "outputs": [
    {
     "data": {
      "text/plain": [
       "[{'_id': ObjectId('63ce99b8ccf6f57278ddb5c7'),\n",
       "  'Region': 'Europe',\n",
       "  'Country': 'Spain',\n",
       "  'City': 'Bilbao',\n",
       "  'Month': 1,\n",
       "  'Day': 1,\n",
       "  'Year': 2020,\n",
       "  'AvgTemperature': 46.1,\n",
       "  'fecha': '2020-01-01',\n",
       "  'tmin': 2.9,\n",
       "  'tmax': 14.8,\n",
       "  'prcp': 0.0,\n",
       "  'wspd': 4.7,\n",
       "  'pres': 1032.6,\n",
       "  'latitud': 43.2630018,\n",
       "  'longitud': -2.9350039}]"
      ]
     },
     "execution_count": 12,
     "metadata": {},
     "output_type": "execute_result"
    }
   ],
   "source": [
    "list(coleccion.find({\"City\":\"Bilbao\"}))[:1]"
   ]
  },
  {
   "cell_type": "markdown",
   "id": "44338c26",
   "metadata": {},
   "source": [
    "Busqueda de fechas especificas"
   ]
  },
  {
   "cell_type": "code",
   "execution_count": 13,
   "id": "f6f29ca2",
   "metadata": {
    "scrolled": true
   },
   "outputs": [
    {
     "data": {
      "text/plain": [
       "[{'_id': ObjectId('63ce99b8ccf6f57278ddaf4d'),\n",
       "  'Region': 'Europe',\n",
       "  'Country': 'Spain',\n",
       "  'City': 'Barcelona',\n",
       "  'Month': 6,\n",
       "  'Day': 18,\n",
       "  'Year': 2020,\n",
       "  'AvgTemperature': 68.2,\n",
       "  'fecha': '2020-06-18',\n",
       "  'tmin': 15.0,\n",
       "  'tmax': 23.0,\n",
       "  'prcp': 2.9,\n",
       "  'wspd': 9.3,\n",
       "  'pres': 1016.0,\n",
       "  'latitud': 41.3828939,\n",
       "  'longitud': 2.1774322}]"
      ]
     },
     "execution_count": 13,
     "metadata": {},
     "output_type": "execute_result"
    }
   ],
   "source": [
    "cond1 = {\"Year\":2020}\n",
    "cond2 = {\"Month\":6}\n",
    "cond3 = {\"Day\":18}\n",
    "cond4 ={'City':\"Barcelona\"}\n",
    "\n",
    "list(coleccion.find({'$and': [cond1, cond2, cond3, cond4]}))"
   ]
  },
  {
   "cell_type": "code",
   "execution_count": 14,
   "id": "3ac964bb",
   "metadata": {},
   "outputs": [
    {
     "data": {
      "text/plain": [
       "[{'_id': ObjectId('63ce99b8ccf6f57278ddbd91'),\n",
       "  'Region': 'Europe',\n",
       "  'Country': 'Spain',\n",
       "  'City': 'Madrid',\n",
       "  'Month': 6,\n",
       "  'Day': 18,\n",
       "  'Year': 2020,\n",
       "  'AvgTemperature': 67.4,\n",
       "  'fecha': '2020-06-18',\n",
       "  'tmin': 15.8,\n",
       "  'tmax': 28.9,\n",
       "  'prcp': 0.0,\n",
       "  'wspd': 10.3,\n",
       "  'pres': 0.0,\n",
       "  'latitud': 40.4167047,\n",
       "  'longitud': -3.7035825}]"
      ]
     },
     "execution_count": 14,
     "metadata": {},
     "output_type": "execute_result"
    }
   ],
   "source": [
    "cond1 = {\"Year\":2020}\n",
    "cond2 = {\"Month\":6}\n",
    "cond3 = {\"Day\":18}\n",
    "cond4 ={'City':\"Madrid\"}\n",
    "\n",
    "list(coleccion.find({'$and': [cond1, cond2, cond3, cond4]}))"
   ]
  },
  {
   "cell_type": "code",
   "execution_count": 15,
   "id": "89c0c8d3",
   "metadata": {},
   "outputs": [
    {
     "data": {
      "text/plain": [
       "[{'_id': ObjectId('63ce99b8ccf6f57278ddb66f'),\n",
       "  'Region': 'Europe',\n",
       "  'Country': 'Spain',\n",
       "  'City': 'Bilbao',\n",
       "  'Month': 6,\n",
       "  'Day': 18,\n",
       "  'Year': 2020,\n",
       "  'AvgTemperature': 60.4,\n",
       "  'fecha': '2020-06-18',\n",
       "  'tmin': 13.5,\n",
       "  'tmax': 20.4,\n",
       "  'prcp': 0.0,\n",
       "  'wspd': 7.1,\n",
       "  'pres': 1017.8,\n",
       "  'latitud': 43.2630018,\n",
       "  'longitud': -2.9350039}]"
      ]
     },
     "execution_count": 15,
     "metadata": {},
     "output_type": "execute_result"
    }
   ],
   "source": [
    "cond1 = {\"Year\":2020}\n",
    "cond2 = {\"Month\":6}\n",
    "cond3 = {\"Day\":18}\n",
    "cond4 ={'City':\"Bilbao\"}\n",
    "\n",
    "list(coleccion.find({'$and': [cond1, cond2, cond3, cond4]}))"
   ]
  }
 ],
 "metadata": {
  "kernelspec": {
   "display_name": "Ishki",
   "language": "python",
   "name": "ishki"
  },
  "language_info": {
   "codemirror_mode": {
    "name": "ipython",
    "version": 3
   },
   "file_extension": ".py",
   "mimetype": "text/x-python",
   "name": "python",
   "nbconvert_exporter": "python",
   "pygments_lexer": "ipython3",
   "version": "3.9.13"
  }
 },
 "nbformat": 4,
 "nbformat_minor": 5
}
